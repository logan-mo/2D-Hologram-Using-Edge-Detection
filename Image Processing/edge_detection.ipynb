{
 "cells": [
  {
   "cell_type": "code",
   "execution_count": 26,
   "metadata": {},
   "outputs": [],
   "source": [
    "import cv2\n",
    "import numpy as np\n",
    "import glob\n",
    "import time\n",
    "from IPython.display import Image"
   ]
  },
  {
   "cell_type": "code",
   "execution_count": 21,
   "metadata": {},
   "outputs": [],
   "source": [
    "images = glob.glob('data\\\\*')"
   ]
  },
  {
   "cell_type": "code",
   "execution_count": 22,
   "metadata": {},
   "outputs": [
    {
     "data": {
      "text/plain": [
       "['data\\\\bedroom.jpg',\n",
       " 'data\\\\counter.jpg',\n",
       " 'data\\\\house.jpg',\n",
       " 'data\\\\rocks.jpg']"
      ]
     },
     "execution_count": 22,
     "metadata": {},
     "output_type": "execute_result"
    }
   ],
   "source": [
    "images"
   ]
  },
  {
   "cell_type": "code",
   "execution_count": 28,
   "metadata": {},
   "outputs": [
    {
     "name": "stdout",
     "output_type": "stream",
     "text": [
      "Total Time:  0.28151512145996094\n",
      "FPS:  14.109147911617338\n"
     ]
    }
   ],
   "source": [
    "start = time.time()\n",
    "\n",
    "for img in images:\n",
    "    frame = cv2.imread(img)\n",
    "    \n",
    "    # Converting the image to grayscale.\n",
    "    gray = cv2.cvtColor(frame, cv2.COLOR_BGR2GRAY)\n",
    "\n",
    "    # Smoothing without removing edges.\n",
    "    gray_filtered = cv2.bilateralFilter(gray, 10, 40, 40)\n",
    "\n",
    "    # Applying the canny filter\n",
    "    edges_filtered = cv2.Canny(gray_filtered, 60, 120)\n",
    "\n",
    "    # Display the resulting frame\n",
    "    cv2.imwrite('results\\\\' + img.split('\\\\')[1] , np.hstack((gray, edges_filtered)))\n",
    "    \n",
    "print(\"Total Time: \" , time.time() - start)\n",
    "print(\"FPS: \" , len(images)/(time.time() - start))"
   ]
  },
  {
   "cell_type": "code",
   "execution_count": null,
   "metadata": {},
   "outputs": [],
   "source": []
  }
 ],
 "metadata": {
  "kernelspec": {
   "display_name": "Python 3",
   "language": "python",
   "name": "python3"
  },
  "language_info": {
   "codemirror_mode": {
    "name": "ipython",
    "version": 3
   },
   "file_extension": ".py",
   "mimetype": "text/x-python",
   "name": "python",
   "nbconvert_exporter": "python",
   "pygments_lexer": "ipython3",
   "version": "3.10.7"
  },
  "orig_nbformat": 4
 },
 "nbformat": 4,
 "nbformat_minor": 2
}
